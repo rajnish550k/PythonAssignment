{
 "cells": [
  {
   "cell_type": "code",
   "execution_count": null,
   "id": "8dfd795e-dbc8-40dd-b11a-875de0c0b02d",
   "metadata": {},
   "outputs": [],
   "source": [
    "#Question-1\n",
    "user = int(input(\"Enter a number:\"))\n",
    "user1 = int(input(\"Enter a number:\"))\n",
    "print()\n",
    "add = user + user1\n",
    "sub = user - user1\n",
    "mul = user * user1\n",
    "div = user / user1\n",
    "mod = user % user1\n",
    "expo = user ** user1\n",
    "fd = user // user1\n",
    "\n",
    "print(f\"Addition:{add}\\nSubstraction:{sub}\\nMultiplication:{mul}\\nDivision:{div}\\nModulus:{mod}\\nExponent:{expo}\\nFloor Division:{fd}\")"
   ]
  },
  {
   "cell_type": "code",
   "execution_count": 4,
   "id": "8ae0f5ca-ab62-473a-b1af-baf45d36842b",
   "metadata": {},
   "outputs": [
    {
     "name": "stdin",
     "output_type": "stream",
     "text": [
      "Enter a number: 20\n",
      "Enter a number: 10\n"
     ]
    },
    {
     "name": "stdout",
     "output_type": "stream",
     "text": [
      "First number is greter\n",
      "Both are not equal\n",
      "First number is not equal to second number\n"
     ]
    }
   ],
   "source": [
    "#Question-2\n",
    "f_num = int(input(\"Enter a number:\"))\n",
    "s_num = int(input(\"Enter a number:\"))\n",
    "\n",
    "if f_num > s_num:\n",
    "    print(\"First number is greter\")\n",
    "else:\n",
    "    print(\"Second number is greater\")\n",
    "\n",
    "if f_num == s_num:\n",
    "    print(\"first number equal to second number\")\n",
    "else:\n",
    "    print(\"Both are not equal\")\n",
    "\n",
    "if f_num <= s_num:\n",
    "    print(\"First number less than equal to second number\")\n",
    "else:\n",
    "    print(\"First number is not equal to second number\")"
   ]
  },
  {
   "cell_type": "code",
   "execution_count": null,
   "id": "574e88b4-4e3a-487a-a27c-026a2842d23b",
   "metadata": {},
   "outputs": [],
   "source": [
    "#Question-3\n",
    "first = bool(int(input(\"Enter a number:\")))\n",
    "sec = bool(int(input(\"Enter a number:\")))\n",
    "print()\n",
    "\n",
    "r1 = first and sec\n",
    "\n",
    "r2 = first or sec\n",
    "\n",
    "r3 =  not first\n",
    "r4 = not sec\n",
    "\n",
    "print(\"And:\",r1,\"OR:\",r2,\"Not:\",r3,\"Not:\",r4)"
   ]
  },
  {
   "cell_type": "code",
   "execution_count": null,
   "id": "7fea9b2a-bedf-43a7-b34a-3949fa40caa0",
   "metadata": {},
   "outputs": [],
   "source": [
    "#Question-4\n",
    "user = str(input(\"Enter a txt:\")) \n",
    "print(len(user))\n",
    "first_char = user[0]\n",
    "second_char = user[-1]\n",
    "print(\"First charcter:\",first_char)\n",
    "print(\"Last charcter:\",second_char)\n",
    "print(\"Reverse:\",user[::-1])\n",
    "upper_str = user.upper()\n",
    "lower_str = user.lower()\n",
    "print(\"Uppercase and lowercase:\",upper_str,\"&\",lower_str)"
   ]
  },
  {
   "cell_type": "code",
   "execution_count": null,
   "id": "587bbee8-082d-4bc7-8f5e-1d7ca8a9d4a9",
   "metadata": {},
   "outputs": [],
   "source": [
    "#Question-5\n",
    "name = str(input(\"Enter a name:\"))\n",
    "age = int(input(\"Enter a age:\"))\n",
    "print(f\"Hello {name} You are {age} Years old\")"
   ]
  },
  {
   "cell_type": "code",
   "execution_count": null,
   "id": "3a8c7e16-0587-4819-a6c6-ee0a23224990",
   "metadata": {},
   "outputs": [],
   "source": [
    "#Q-6\n",
    "sen = input(\"Enter a Sentence:\")\n",
    "search = input(\"Enter a word to search:\")\n",
    "if search in sen:\n",
    "    position = sen.index(search)\n",
    "    print(search,position )\n",
    "else:\n",
    "    print(search)"
   ]
  },
  {
   "cell_type": "code",
   "execution_count": null,
   "id": "9ae096c4-5356-405b-b193-0e6241f543bc",
   "metadata": {},
   "outputs": [],
   "source": [
    "#Question-7\n",
    "li=list(map(int(input().split())))\n",
    "\n",
    "\n",
    "total_sum = sum(li)\n",
    "print(total_sum) \n",
    "\n",
    "\n",
    "largest = max(li)\n",
    "smallest = min(li)\n",
    "\n",
    "print(\"Largest Number:\",largest)\n",
    "print(\"Smallest Number:\",smallest)"
   ]
  },
  {
   "cell_type": "code",
   "execution_count": null,
   "id": "a4f34822-a2c3-4c03-964f-6401c156394c",
   "metadata": {},
   "outputs": [],
   "source": [
    "# Question-8\n",
    "fruits = [\"APPLE\",\"BANANA\",\"KIWI\",\"GRAPES\",\"CHERRY\"]\n",
    "fruits.insert(5,\"Mango\")\n",
    "print(fruits)"
   ]
  },
  {
   "cell_type": "code",
   "execution_count": null,
   "id": "4fcad2aa-c69c-48f4-acab-757149d19d78",
   "metadata": {},
   "outputs": [],
   "source": [
    "#Question-9\n",
    "# num = list(map(int(input().split())))\n",
    "num = [22,44,66,55,33]\n",
    "descending = sorted(num,reverse=True)\n",
    "ascending = sorted(num,reverse=False)\n",
    "\n",
    "print(\"Ascending_Order:\",ascending)\n",
    "print(\"Descending_Order:\",descending)"
   ]
  },
  {
   "cell_type": "code",
   "execution_count": 2,
   "id": "64ad4c5a-39df-4c81-815e-2effa236efb4",
   "metadata": {},
   "outputs": [
    {
     "name": "stdout",
     "output_type": "stream",
     "text": [
      "First 5 elements: [1, 2, 3, 4, 5]\n",
      "last 5 elements: [6, 7, 8, 9, 10]\n",
      "Index 2 to index 7: [3, 4, 5, 6, 7, 8]\n"
     ]
    }
   ],
   "source": [
    "#Question-10\n",
    "num = [1, 2, 3, 4, 5, 6, 7, 8, 9, 10]\n",
    "print(\"First 5 elements:\",num[:5])\n",
    "print(\"last 5 elements:\",num[-5::])\n",
    "print(\"Index 2 to index 7:\",num[2:8])"
   ]
  },
  {
   "cell_type": "code",
   "execution_count": 3,
   "id": "39011922-c9dc-4925-8144-12e2efc6be01",
   "metadata": {},
   "outputs": [
    {
     "name": "stdout",
     "output_type": "stream",
     "text": [
      "['abhishek', 'raja', 'rajveer', 85, 89, 91]\n"
     ]
    }
   ],
   "source": [
    "#Question-11\n",
    "student_names = [\"abhishek\",\"raja\",\"rajveer\"]\n",
    "student_marks = [85,89,91]\n",
    "add = student_names+student_marks\n",
    "print(add)"
   ]
  },
  {
   "cell_type": "code",
   "execution_count": null,
   "id": "a8b50222-baf6-4c45-b6e1-40687ab10ccb",
   "metadata": {},
   "outputs": [],
   "source": []
  }
 ],
 "metadata": {
  "kernelspec": {
   "display_name": "Python 3 (ipykernel)",
   "language": "python",
   "name": "python3"
  },
  "language_info": {
   "codemirror_mode": {
    "name": "ipython",
    "version": 3
   },
   "file_extension": ".py",
   "mimetype": "text/x-python",
   "name": "python",
   "nbconvert_exporter": "python",
   "pygments_lexer": "ipython3",
   "version": "3.12.4"
  }
 },
 "nbformat": 4,
 "nbformat_minor": 5
}
